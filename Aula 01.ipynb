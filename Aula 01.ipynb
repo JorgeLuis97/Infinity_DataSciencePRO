{
  "cells": [
    {
      "cell_type": "code",
      "execution_count": 1,
      "metadata": {
        "id": "qTB7zBMnBi-Q"
      },
      "outputs": [],
      "source": [
        "import pandas as pd\n"
      ]
    },
    {
      "cell_type": "code",
      "execution_count": 11,
      "metadata": {
        "colab": {
          "base_uri": "https://localhost:8080/"
        },
        "id": "DUD0HGJbRE1I",
        "outputId": "0894bc6a-8045-4c08-d2d5-2c0235e4bc8b"
      },
      "outputs": [
        {
          "name": "stdout",
          "output_type": "stream",
          "text": [
            "<class 'pandas.core.frame.DataFrame'>\n",
            "RangeIndex: 17000 entries, 0 to 16999\n",
            "Data columns (total 9 columns):\n",
            " #   Column              Non-Null Count  Dtype  \n",
            "---  ------              --------------  -----  \n",
            " 0   longitude           17000 non-null  float64\n",
            " 1   latitude            17000 non-null  float64\n",
            " 2   housing_median_age  17000 non-null  float64\n",
            " 3   total_rooms         17000 non-null  float64\n",
            " 4   total_bedrooms      17000 non-null  float64\n",
            " 5   population          17000 non-null  float64\n",
            " 6   households          17000 non-null  float64\n",
            " 7   median_income       17000 non-null  float64\n",
            " 8   median_house_value  17000 non-null  float64\n",
            "dtypes: float64(9)\n",
            "memory usage: 1.2 MB\n"
          ]
        },
        {
          "data": {
            "text/html": [
              "<div>\n",
              "<style scoped>\n",
              "    .dataframe tbody tr th:only-of-type {\n",
              "        vertical-align: middle;\n",
              "    }\n",
              "\n",
              "    .dataframe tbody tr th {\n",
              "        vertical-align: top;\n",
              "    }\n",
              "\n",
              "    .dataframe thead th {\n",
              "        text-align: right;\n",
              "    }\n",
              "</style>\n",
              "<table border=\"1\" class=\"dataframe\">\n",
              "  <thead>\n",
              "    <tr style=\"text-align: right;\">\n",
              "      <th></th>\n",
              "      <th>longitude</th>\n",
              "      <th>total_rooms</th>\n",
              "    </tr>\n",
              "  </thead>\n",
              "  <tbody>\n",
              "    <tr>\n",
              "      <th>0</th>\n",
              "      <td>-114.31</td>\n",
              "      <td>5612.0</td>\n",
              "    </tr>\n",
              "    <tr>\n",
              "      <th>1</th>\n",
              "      <td>-114.47</td>\n",
              "      <td>7650.0</td>\n",
              "    </tr>\n",
              "    <tr>\n",
              "      <th>2</th>\n",
              "      <td>-114.56</td>\n",
              "      <td>720.0</td>\n",
              "    </tr>\n",
              "    <tr>\n",
              "      <th>3</th>\n",
              "      <td>-114.57</td>\n",
              "      <td>1501.0</td>\n",
              "    </tr>\n",
              "    <tr>\n",
              "      <th>4</th>\n",
              "      <td>-114.57</td>\n",
              "      <td>1454.0</td>\n",
              "    </tr>\n",
              "  </tbody>\n",
              "</table>\n",
              "</div>"
            ],
            "text/plain": [
              "   longitude  total_rooms\n",
              "0    -114.31       5612.0\n",
              "1    -114.47       7650.0\n",
              "2    -114.56        720.0\n",
              "3    -114.57       1501.0\n",
              "4    -114.57       1454.0"
            ]
          },
          "execution_count": 11,
          "metadata": {},
          "output_type": "execute_result"
        }
      ],
      "source": [
        "csv = pd.read_csv(\"Arquivos/california_housing_train.csv\")\n",
        "\n",
        "csv_df = pd.DataFrame(csv)\n",
        "\n",
        "csv_df.info()\n",
        "\n",
        "csv_df[['longitude','total_rooms']].head()\n"
      ]
    },
    {
      "cell_type": "markdown",
      "metadata": {
        "id": "yZI_0a8FTf4-"
      },
      "source": [
        "- Quantas linhas têm?\n",
        "  - R: 17.000 Linhas\n",
        "\n",
        "- Quantas colunas têm? Mostre o nome das colunas e o tipo delas.\n",
        "  - R: 9 Colunas\n",
        "  \n",
        "        Coluna: longitude Tipo: float64\n",
        "        Coluna: latitude Tipo: float64\n",
        "        Coluna: housing_median_age Tipo: float64\n",
        "        Coluna: total_rooms Tipo: float64\n",
        "        Coluna: total_bedrooms Tipo: float64\n",
        "        Coluna: population Tipo: float64\n",
        "        Coluna: households Tipo: float64\n",
        "        Coluna: median_income Tipo: float64\n",
        "        Coluna: median_house_value Tipo: float64\n",
        "\n",
        "- Existêm valores nulos? Se sim, em quais colunas?\n",
        "  - R: Não existe valor nulo\n",
        "\n",
        "- Pegue uma amostra das 3 primeiras linhas.\n",
        "  - R:\n",
        "        \n",
        "        csv = pd.read_csv('Arquivos/california_housing_train.csv')\n",
        "\n",
        "        csv_df = pd.DataFrame(csv)\n",
        "\n",
        "        csv_df.head(5)\n",
        "\n",
        "- Pegue uma amostra das 8 últimas linhas.\n",
        "  - R:\n",
        "\n",
        "        csv = pd.read_csv('Arquivos/california_housing_train.csv')\n",
        "\n",
        "        csv_df = pd.DataFrame(csv)\n",
        "\n",
        "        csv_df.tail(8)\n",
        "\n",
        "- Pegue uma amostra de 10 linhas aleatórias\n",
        "    - R:\n",
        "\n",
        "          csv = pd.read_csv('Arquivos/california_housing_train.csv')\n",
        "\n",
        "          csv_df = pd.DataFrame(csv)\n",
        "\n",
        "          csv_df.sample(10)"
      ]
    }
  ],
  "metadata": {
    "colab": {
      "provenance": [],
      "toc_visible": true
    },
    "kernelspec": {
      "display_name": "Python 3",
      "name": "python3"
    },
    "language_info": {
      "codemirror_mode": {
        "name": "ipython",
        "version": 3
      },
      "file_extension": ".py",
      "mimetype": "text/x-python",
      "name": "python",
      "nbconvert_exporter": "python",
      "pygments_lexer": "ipython3",
      "version": "3.12.4"
    }
  },
  "nbformat": 4,
  "nbformat_minor": 0
}
