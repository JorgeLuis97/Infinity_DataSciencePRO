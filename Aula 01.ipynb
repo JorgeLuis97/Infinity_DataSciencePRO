{
  "cells": [
    {
      "cell_type": "code",
      "execution_count": 1,
      "metadata": {
        "id": "qTB7zBMnBi-Q"
      },
      "outputs": [],
      "source": [
        "import pandas as pd"
      ]
    },
    {
      "cell_type": "code",
      "execution_count": null,
      "metadata": {
        "colab": {
          "base_uri": "https://localhost:8080/"
        },
        "id": "DUD0HGJbRE1I",
        "outputId": "0894bc6a-8045-4c08-d2d5-2c0235e4bc8b"
      },
      "outputs": [],
      "source": [
        "csv = pd.read_csv(\"Arquivos\\california_housing_train.csv\")\n",
        "\n",
        "csv_df = pd.DataFrame(csv)\n",
        "\n",
        "csv_df.info()"
      ]
    },
    {
      "cell_type": "code",
      "execution_count": null,
      "metadata": {
        "id": "KdmfwxC0VVSK"
      },
      "outputs": [],
      "source": [
        "csv = pd.read_csv('Arquivos\\california_housing_train.csv')\n",
        "\n",
        "csv_df = pd.DataFrame(csv)\n",
        "\n",
        "csv.describe()\n"
      ]
    },
    {
      "cell_type": "markdown",
      "metadata": {
        "id": "yZI_0a8FTf4-"
      },
      "source": [
        "- Quantas linhas têm?\n",
        "  - R: 17.000 Linhas\n",
        "\n",
        "- Quantas colunas têm? Mostre o nome das colunas e o tipo delas.\n",
        "  - R: 9 Colunas\n",
        "  \n",
        "        Coluna: longitude Tipo: float64\n",
        "        Coluna: latitude Tipo: float64\n",
        "        Coluna: housing_median_age Tipo: float64\n",
        "        Coluna: total_rooms Tipo: float64\n",
        "        Coluna: total_bedrooms Tipo: float64\n",
        "        Coluna: population Tipo: float64\n",
        "        Coluna: households Tipo: float64\n",
        "        Coluna: median_income Tipo: float64\n",
        "        Coluna: median_house_value Tipo: float64\n",
        "\n",
        "- Existêm valores nulos? Se sim, em quais colunas?\n",
        "  - R: Não existe valor nulo\n",
        "\n",
        "- Pegue uma amostra das 3 primeiras linhas.\n",
        "  - R:\n",
        "        \n",
        "        csv = pd.read_csv('Arquivos\\california_housing_train.csv')\n",
        "\n",
        "        csv_df = pd.DataFrame(csv)\n",
        "\n",
        "        csv_df.head(5)\n",
        "\n",
        "- Pegue uma amostra das 8 últimas linhas.\n",
        "  - R:\n",
        "\n",
        "        csv = pd.read_csv('Arquivos\\california_housing_train.csv')\n",
        "\n",
        "        csv_df = pd.DataFrame(csv)\n",
        "\n",
        "        csv_df.tail(8)\n",
        "\n",
        "- Pegue uma amostra de 10 linhas aleatórias\n",
        "    - R:\n",
        "\n",
        "          csv = pd.read_csv('Arquivos\\california_housing_train.csv')\n",
        "\n",
        "          csv_df = pd.DataFrame(csv)\n",
        "\n",
        "          csv_df.sample(10)"
      ]
    }
  ],
  "metadata": {
    "colab": {
      "provenance": [],
      "toc_visible": true
    },
    "kernelspec": {
      "display_name": "Python 3",
      "name": "python3"
    },
    "language_info": {
      "codemirror_mode": {
        "name": "ipython",
        "version": 3
      },
      "file_extension": ".py",
      "mimetype": "text/x-python",
      "name": "python",
      "nbconvert_exporter": "python",
      "pygments_lexer": "ipython3",
      "version": "3.12.4"
    }
  },
  "nbformat": 4,
  "nbformat_minor": 0
}
