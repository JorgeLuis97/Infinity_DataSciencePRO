{
  "nbformat": 4,
  "nbformat_minor": 0,
  "metadata": {
    "colab": {
      "provenance": [],
      "toc_visible": true
    },
    "kernelspec": {
      "name": "python3",
      "display_name": "Python 3"
    },
    "language_info": {
      "name": "python"
    }
  },
  "cells": [
    {
      "cell_type": "code",
      "source": [
        "import pandas as pd"
      ],
      "metadata": {
        "id": "qTB7zBMnBi-Q"
      },
      "execution_count": 11,
      "outputs": []
    },
    {
      "cell_type": "code",
      "source": [
        "csv = pd.read_csv('california_housing_train.csv')\n",
        "\n",
        "csv_df = pd.DataFrame(csv)\n",
        "\n",
        "csv_df.info()"
      ],
      "metadata": {
        "colab": {
          "base_uri": "https://localhost:8080/"
        },
        "id": "DUD0HGJbRE1I",
        "outputId": "0894bc6a-8045-4c08-d2d5-2c0235e4bc8b"
      },
      "execution_count": 67,
      "outputs": [
        {
          "output_type": "stream",
          "name": "stdout",
          "text": [
            "<class 'pandas.core.frame.DataFrame'>\n",
            "RangeIndex: 17000 entries, 0 to 16999\n",
            "Data columns (total 9 columns):\n",
            " #   Column              Non-Null Count  Dtype  \n",
            "---  ------              --------------  -----  \n",
            " 0   longitude           17000 non-null  float64\n",
            " 1   latitude            17000 non-null  float64\n",
            " 2   housing_median_age  17000 non-null  float64\n",
            " 3   total_rooms         17000 non-null  float64\n",
            " 4   total_bedrooms      17000 non-null  float64\n",
            " 5   population          17000 non-null  float64\n",
            " 6   households          17000 non-null  float64\n",
            " 7   median_income       17000 non-null  float64\n",
            " 8   median_house_value  17000 non-null  float64\n",
            "dtypes: float64(9)\n",
            "memory usage: 1.2 MB\n"
          ]
        }
      ]
    },
    {
      "cell_type": "code",
      "source": [
        "csv = pd.read_csv('california_housing_train.csv')\n",
        "\n",
        "csv_df = pd.DataFrame(csv)\n",
        "\n",
        "csv.describe()\n"
      ],
      "metadata": {
        "id": "KdmfwxC0VVSK"
      },
      "execution_count": null,
      "outputs": []
    },
    {
      "cell_type": "markdown",
      "source": [
        "- Quantas linhas têm?\n",
        "  - R: 17.000 Linhas\n",
        "- Quantas colunas têm? Mostre o nome das colunas e o tipo delas.\n",
        "  - R: 9 Colunas\n",
        "- Existêm valores nulos? Se sim, em quais colunas?\n",
        "  - R: Não existe valor nulo\n",
        "- Pegue uma amostra das 3 primeiras linhas.\n",
        "  - R:\n",
        "        csv = pd.read_csv('california_housing_train.csv')\n",
        "\n",
        "        csv_df = pd.DataFrame(csv)\n",
        "\n",
        "        csv_df.head(5)\n",
        "- Pegue uma amostra das 8 últimas linhas.\n",
        "  - R:\n",
        "        csv = pd.read_csv('california_housing_train.csv')\n",
        "\n",
        "        csv_df = pd.DataFrame(csv)\n",
        "\n",
        "        csv_df.tail(8)\n",
        "- Pegue uma amostra de 10 linhas aleatórias\n",
        "    - R:\n",
        "          csv = pd.read_csv('california_housing_train.csv')\n",
        "\n",
        "          csv_df = pd.DataFrame(csv)\n",
        "\n",
        "          csv_df.sample(10)"
      ],
      "metadata": {
        "id": "yZI_0a8FTf4-"
      }
    }
  ]
}