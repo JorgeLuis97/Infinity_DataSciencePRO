{
  "cells": [
    {
      "cell_type": "code",
      "execution_count": 11,
      "metadata": {
        "id": "qTB7zBMnBi-Q"
      },
      "outputs": [],
      "source": [
        "import pandas as pd"
      ]
    },
    {
      "cell_type": "code",
      "execution_count": 67,
      "metadata": {
        "colab": {
          "base_uri": "https://localhost:8080/"
        },
        "id": "DUD0HGJbRE1I",
        "outputId": "0894bc6a-8045-4c08-d2d5-2c0235e4bc8b"
      },
      "outputs": [
        {
          "name": "stdout",
          "output_type": "stream",
          "text": [
            "<class 'pandas.core.frame.DataFrame'>\n",
            "RangeIndex: 17000 entries, 0 to 16999\n",
            "Data columns (total 9 columns):\n",
            " #   Column              Non-Null Count  Dtype  \n",
            "---  ------              --------------  -----  \n",
            " 0   longitude           17000 non-null  float64\n",
            " 1   latitude            17000 non-null  float64\n",
            " 2   housing_median_age  17000 non-null  float64\n",
            " 3   total_rooms         17000 non-null  float64\n",
            " 4   total_bedrooms      17000 non-null  float64\n",
            " 5   population          17000 non-null  float64\n",
            " 6   households          17000 non-null  float64\n",
            " 7   median_income       17000 non-null  float64\n",
            " 8   median_house_value  17000 non-null  float64\n",
            "dtypes: float64(9)\n",
            "memory usage: 1.2 MB\n"
          ]
        }
      ],
      "source": [
        "csv = pd.read_csv('california_housing_train.csv')\n",
        "\n",
        "csv_df = pd.DataFrame(csv)\n",
        "\n",
        "csv_df.info()"
      ]
    },
    {
      "cell_type": "code",
      "execution_count": null,
      "metadata": {
        "id": "KdmfwxC0VVSK"
      },
      "outputs": [],
      "source": [
        "csv = pd.read_csv('california_housing_train.csv')\n",
        "\n",
        "csv_df = pd.DataFrame(csv)\n",
        "\n",
        "csv.describe()\n"
      ]
    },
    {
      "cell_type": "markdown",
      "metadata": {
        "id": "yZI_0a8FTf4-"
      },
      "source": [
        "- Quantas linhas têm?\n",
        "  - R: 17.000 Linhas\n",
        "\n",
        "- Quantas colunas têm? Mostre o nome das colunas e o tipo delas.\n",
        "  - R: 9 Colunas\n",
        "  \n",
        "        Coluna: longitude Tipo: float64\n",
        "        Coluna: latitude Tipo: float64\n",
        "        Coluna: housing_median_age Tipo: float64\n",
        "        Coluna: total_rooms Tipo: float64\n",
        "        Coluna: total_bedrooms Tipo: float64\n",
        "        Coluna: population Tipo: float64\n",
        "        Coluna: households Tipo: float64\n",
        "        Coluna: median_income Tipo: float64\n",
        "        Coluna: median_house_value Tipo: float64\n",
        "\n",
        "- Existêm valores nulos? Se sim, em quais colunas?\n",
        "  - R: Não existe valor nulo\n",
        "\n",
        "- Pegue uma amostra das 3 primeiras linhas.\n",
        "  - R:\n",
        "        csv = pd.read_csv('california_housing_train.csv')\n",
        "\n",
        "        csv_df = pd.DataFrame(csv)\n",
        "\n",
        "        csv_df.head(5)\n",
        "\n",
        "- Pegue uma amostra das 8 últimas linhas.\n",
        "  - R:\n",
        "        csv = pd.read_csv('california_housing_train.csv')\n",
        "\n",
        "        csv_df = pd.DataFrame(csv)\n",
        "\n",
        "        csv_df.tail(8)\n",
        "\n",
        "- Pegue uma amostra de 10 linhas aleatórias\n",
        "    - R:\n",
        "          csv = pd.read_csv('california_housing_train.csv')\n",
        "\n",
        "          csv_df = pd.DataFrame(csv)\n",
        "\n",
        "          csv_df.sample(10)"
      ]
    },
    {
      "cell_type": "markdown",
      "metadata": {},
      "source": []
    }
  ],
  "metadata": {
    "colab": {
      "provenance": [],
      "toc_visible": true
    },
    "kernelspec": {
      "display_name": "Python 3",
      "name": "python3"
    },
    "language_info": {
      "name": "python"
    }
  },
  "nbformat": 4,
  "nbformat_minor": 0
}
