{
 "cells": [
  {
   "cell_type": "code",
   "execution_count": 1,
   "metadata": {},
   "outputs": [],
   "source": [
    "import pandas as pd\n",
    "import numpy as np\n"
   ]
  },
  {
   "cell_type": "code",
   "execution_count": 33,
   "metadata": {},
   "outputs": [],
   "source": [
    "url = 'https://raw.githubusercontent.com/rafaelpuyau/infinity_school/main/ds/datasets/atividade_casa.csv'\n"
   ]
  },
  {
   "cell_type": "code",
   "execution_count": 26,
   "metadata": {},
   "outputs": [
    {
     "name": "stdout",
     "output_type": "stream",
     "text": [
      "[ 5 10 15 20]\n",
      "[1 2 3 4 5]\n"
     ]
    }
   ],
   "source": [
    "# Atividade 01 da aula 03\n",
    "arr = np.arange(5, 21, 5)\n",
    "\n",
    "arr2 = np.arange(1, 6)\n",
    "\n",
    "print(arr) \n",
    "print(arr2)\n",
    "\n"
   ]
  },
  {
   "cell_type": "code",
   "execution_count": 32,
   "metadata": {},
   "outputs": [
    {
     "name": "stdout",
     "output_type": "stream",
     "text": [
      "[2.23606798 3.16227766 3.87298335 4.47213595]\n",
      "[4 5 6 7 8]\n"
     ]
    }
   ],
   "source": [
    "# Atividade 02 da aula 03 \n",
    "print(np.sqrt(arr))\n",
    "print(arr2 + 3)\n"
   ]
  },
  {
   "cell_type": "code",
   "execution_count": 37,
   "metadata": {},
   "outputs": [
    {
     "name": "stdout",
     "output_type": "stream",
     "text": [
      "<class 'pandas.core.frame.DataFrame'>\n",
      "RangeIndex: 100000 entries, 0 to 99999\n",
      "Data columns (total 8 columns):\n",
      " #   Column         Non-Null Count   Dtype         \n",
      "---  ------         --------------   -----         \n",
      " 0   Produto        100000 non-null  object        \n",
      " 1   Cor            100000 non-null  object        \n",
      " 2   Valor          100000 non-null  float64       \n",
      " 3   Quantidade     100000 non-null  int64         \n",
      " 4   Sexo           100000 non-null  object        \n",
      " 5   Idade          100000 non-null  int64         \n",
      " 6   Data da Venda  100000 non-null  datetime64[ns]\n",
      " 7   Canal          100000 non-null  object        \n",
      "dtypes: datetime64[ns](1), float64(1), int64(2), object(4)\n",
      "memory usage: 6.1+ MB\n"
     ]
    }
   ],
   "source": [
    "# atividade 03 pratica da aula 03\n",
    "df = pd.read_csv(url)\n",
    "\n",
    "df\n",
    "\n",
    "df['Data da Venda'] = pd.to_datetime(df['Data da Venda'])\n",
    "\n",
    "df.info()\n"
   ]
  }
 ],
 "metadata": {
  "kernelspec": {
   "display_name": "Python 3",
   "language": "python",
   "name": "python3"
  },
  "language_info": {
   "codemirror_mode": {
    "name": "ipython",
    "version": 3
   },
   "file_extension": ".py",
   "mimetype": "text/x-python",
   "name": "python",
   "nbconvert_exporter": "python",
   "pygments_lexer": "ipython3",
   "version": "3.12.4"
  }
 },
 "nbformat": 4,
 "nbformat_minor": 2
}
