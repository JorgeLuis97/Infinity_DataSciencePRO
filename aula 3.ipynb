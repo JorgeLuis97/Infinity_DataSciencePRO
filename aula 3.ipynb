{
 "cells": [
  {
   "cell_type": "code",
   "execution_count": 5,
   "metadata": {},
   "outputs": [],
   "source": [
    "import pandas as pd\n",
    "import numpy as np\n"
   ]
  },
  {
   "cell_type": "code",
   "execution_count": 6,
   "metadata": {},
   "outputs": [],
   "source": [
    "url = 'https://raw.githubusercontent.com/rafaelpuyau/infinity_school/main/ds/datasets/atividade_casa.csv'\n"
   ]
  },
  {
   "cell_type": "code",
   "execution_count": 7,
   "metadata": {},
   "outputs": [
    {
     "name": "stdout",
     "output_type": "stream",
     "text": [
      "[ 5 10 15 20]\n",
      "[1 2 3 4 5]\n"
     ]
    }
   ],
   "source": [
    "# Atividade 01 da aula 03\n",
    "arr = np.arange(5, 21, 5)\n",
    "\n",
    "arr2 = np.arange(1, 6)\n",
    "\n",
    "print(arr) \n",
    "print(arr2)\n",
    "\n"
   ]
  },
  {
   "cell_type": "code",
   "execution_count": 8,
   "metadata": {},
   "outputs": [
    {
     "name": "stdout",
     "output_type": "stream",
     "text": [
      "[2.23606798 3.16227766 3.87298335 4.47213595]\n",
      "[4 5 6 7 8]\n"
     ]
    }
   ],
   "source": [
    "# Atividade 02 da aula 03 \n",
    "print(np.sqrt(arr))\n",
    "print(arr2 + 3)\n"
   ]
  },
  {
   "cell_type": "code",
   "execution_count": 9,
   "metadata": {},
   "outputs": [
    {
     "name": "stdout",
     "output_type": "stream",
     "text": [
      "<class 'pandas.core.frame.DataFrame'>\n",
      "RangeIndex: 100000 entries, 0 to 99999\n",
      "Data columns (total 8 columns):\n",
      " #   Column         Non-Null Count   Dtype         \n",
      "---  ------         --------------   -----         \n",
      " 0   Produto        100000 non-null  object        \n",
      " 1   Cor            100000 non-null  object        \n",
      " 2   Valor          100000 non-null  float64       \n",
      " 3   Quantidade     100000 non-null  int64         \n",
      " 4   Sexo           100000 non-null  object        \n",
      " 5   Idade          100000 non-null  int64         \n",
      " 6   Data da Venda  100000 non-null  datetime64[ns]\n",
      " 7   Canal          100000 non-null  object        \n",
      "dtypes: datetime64[ns](1), float64(1), int64(2), object(4)\n",
      "memory usage: 6.1+ MB\n"
     ]
    }
   ],
   "source": [
    "# atividade 03 pratica da aula 03\n",
    "df = pd.read_csv(url)\n",
    "\n",
    "df['Data da Venda'] = pd.to_datetime(df['Data da Venda'])\n",
    "\n",
    "df.info()\n"
   ]
  },
  {
   "cell_type": "code",
   "execution_count": 10,
   "metadata": {},
   "outputs": [
    {
     "data": {
      "text/html": [
       "<div>\n",
       "<style scoped>\n",
       "    .dataframe tbody tr th:only-of-type {\n",
       "        vertical-align: middle;\n",
       "    }\n",
       "\n",
       "    .dataframe tbody tr th {\n",
       "        vertical-align: top;\n",
       "    }\n",
       "\n",
       "    .dataframe thead th {\n",
       "        text-align: right;\n",
       "    }\n",
       "</style>\n",
       "<table border=\"1\" class=\"dataframe\">\n",
       "  <thead>\n",
       "    <tr style=\"text-align: right;\">\n",
       "      <th></th>\n",
       "      <th>Produto</th>\n",
       "      <th>Cor</th>\n",
       "      <th>Valor</th>\n",
       "      <th>Quantidade</th>\n",
       "      <th>Sexo</th>\n",
       "      <th>Idade</th>\n",
       "      <th>Data da Venda</th>\n",
       "      <th>Canal</th>\n",
       "    </tr>\n",
       "  </thead>\n",
       "  <tbody>\n",
       "    <tr>\n",
       "      <th>0</th>\n",
       "      <td>Calça</td>\n",
       "      <td>Roxa</td>\n",
       "      <td>66.947509</td>\n",
       "      <td>4</td>\n",
       "      <td>Masculino</td>\n",
       "      <td>39</td>\n",
       "      <td>2022-02-25</td>\n",
       "      <td>Loja Virtual</td>\n",
       "    </tr>\n",
       "    <tr>\n",
       "      <th>1</th>\n",
       "      <td>Camiseta</td>\n",
       "      <td>Amarela</td>\n",
       "      <td>99.692292</td>\n",
       "      <td>1</td>\n",
       "      <td>Masculino</td>\n",
       "      <td>30</td>\n",
       "      <td>2022-01-19</td>\n",
       "      <td>Loja Física</td>\n",
       "    </tr>\n",
       "    <tr>\n",
       "      <th>2</th>\n",
       "      <td>Calça</td>\n",
       "      <td>Azul</td>\n",
       "      <td>92.502413</td>\n",
       "      <td>2</td>\n",
       "      <td>Feminino</td>\n",
       "      <td>25</td>\n",
       "      <td>2022-03-11</td>\n",
       "      <td>Loja Física</td>\n",
       "    </tr>\n",
       "    <tr>\n",
       "      <th>3</th>\n",
       "      <td>Short</td>\n",
       "      <td>Azul</td>\n",
       "      <td>162.693470</td>\n",
       "      <td>1</td>\n",
       "      <td>Feminino</td>\n",
       "      <td>45</td>\n",
       "      <td>2022-05-01</td>\n",
       "      <td>Loja Física</td>\n",
       "    </tr>\n",
       "    <tr>\n",
       "      <th>4</th>\n",
       "      <td>Camiseta</td>\n",
       "      <td>Laranja</td>\n",
       "      <td>148.191049</td>\n",
       "      <td>3</td>\n",
       "      <td>Feminino</td>\n",
       "      <td>29</td>\n",
       "      <td>2022-03-13</td>\n",
       "      <td>Loja Física</td>\n",
       "    </tr>\n",
       "    <tr>\n",
       "      <th>...</th>\n",
       "      <td>...</td>\n",
       "      <td>...</td>\n",
       "      <td>...</td>\n",
       "      <td>...</td>\n",
       "      <td>...</td>\n",
       "      <td>...</td>\n",
       "      <td>...</td>\n",
       "      <td>...</td>\n",
       "    </tr>\n",
       "    <tr>\n",
       "      <th>99995</th>\n",
       "      <td>Calça</td>\n",
       "      <td>Laranja</td>\n",
       "      <td>101.158897</td>\n",
       "      <td>4</td>\n",
       "      <td>Masculino</td>\n",
       "      <td>46</td>\n",
       "      <td>2022-01-24</td>\n",
       "      <td>Loja Física</td>\n",
       "    </tr>\n",
       "    <tr>\n",
       "      <th>99996</th>\n",
       "      <td>Saia</td>\n",
       "      <td>Preta</td>\n",
       "      <td>100.815311</td>\n",
       "      <td>3</td>\n",
       "      <td>Masculino</td>\n",
       "      <td>28</td>\n",
       "      <td>2022-03-08</td>\n",
       "      <td>Loja Física</td>\n",
       "    </tr>\n",
       "    <tr>\n",
       "      <th>99997</th>\n",
       "      <td>Calça</td>\n",
       "      <td>Azul</td>\n",
       "      <td>63.924217</td>\n",
       "      <td>4</td>\n",
       "      <td>Feminino</td>\n",
       "      <td>48</td>\n",
       "      <td>2022-06-08</td>\n",
       "      <td>Loja Virtual</td>\n",
       "    </tr>\n",
       "    <tr>\n",
       "      <th>99998</th>\n",
       "      <td>Calça</td>\n",
       "      <td>Azul</td>\n",
       "      <td>149.062392</td>\n",
       "      <td>3</td>\n",
       "      <td>Feminino</td>\n",
       "      <td>19</td>\n",
       "      <td>2022-01-05</td>\n",
       "      <td>Loja Física</td>\n",
       "    </tr>\n",
       "    <tr>\n",
       "      <th>99999</th>\n",
       "      <td>Saia</td>\n",
       "      <td>Verde</td>\n",
       "      <td>114.089710</td>\n",
       "      <td>3</td>\n",
       "      <td>Masculino</td>\n",
       "      <td>25</td>\n",
       "      <td>2022-04-19</td>\n",
       "      <td>Loja Virtual</td>\n",
       "    </tr>\n",
       "  </tbody>\n",
       "</table>\n",
       "<p>100000 rows × 8 columns</p>\n",
       "</div>"
      ],
      "text/plain": [
       "        Produto      Cor       Valor  Quantidade       Sexo  Idade  \\\n",
       "0         Calça     Roxa   66.947509           4  Masculino     39   \n",
       "1      Camiseta  Amarela   99.692292           1  Masculino     30   \n",
       "2         Calça     Azul   92.502413           2   Feminino     25   \n",
       "3         Short     Azul  162.693470           1   Feminino     45   \n",
       "4      Camiseta  Laranja  148.191049           3   Feminino     29   \n",
       "...         ...      ...         ...         ...        ...    ...   \n",
       "99995     Calça  Laranja  101.158897           4  Masculino     46   \n",
       "99996      Saia    Preta  100.815311           3  Masculino     28   \n",
       "99997     Calça     Azul   63.924217           4   Feminino     48   \n",
       "99998     Calça     Azul  149.062392           3   Feminino     19   \n",
       "99999      Saia    Verde  114.089710           3  Masculino     25   \n",
       "\n",
       "      Data da Venda         Canal  \n",
       "0        2022-02-25  Loja Virtual  \n",
       "1        2022-01-19   Loja Física  \n",
       "2        2022-03-11   Loja Física  \n",
       "3        2022-05-01   Loja Física  \n",
       "4        2022-03-13   Loja Física  \n",
       "...             ...           ...  \n",
       "99995    2022-01-24   Loja Física  \n",
       "99996    2022-03-08   Loja Física  \n",
       "99997    2022-06-08  Loja Virtual  \n",
       "99998    2022-01-05   Loja Física  \n",
       "99999    2022-04-19  Loja Virtual  \n",
       "\n",
       "[100000 rows x 8 columns]"
      ]
     },
     "execution_count": 10,
     "metadata": {},
     "output_type": "execute_result"
    }
   ],
   "source": [
    "df\n"
   ]
  },
  {
   "cell_type": "code",
   "execution_count": 13,
   "metadata": {},
   "outputs": [
    {
     "data": {
      "text/plain": [
       "Produto                        Short\n",
       "Cor                             Azul\n",
       "Valor                      162.69347\n",
       "Quantidade                         1\n",
       "Sexo                        Feminino\n",
       "Idade                             45\n",
       "Data da Venda    2022-05-01 00:00:00\n",
       "Canal                    Loja Física\n",
       "Name: 3, dtype: object"
      ]
     },
     "execution_count": 13,
     "metadata": {},
     "output_type": "execute_result"
    }
   ],
   "source": [
    "\n",
    "\n",
    "df.iloc[\n"
   ]
  }
 ],
 "metadata": {
  "kernelspec": {
   "display_name": "Python 3",
   "language": "python",
   "name": "python3"
  },
  "language_info": {
   "codemirror_mode": {
    "name": "ipython",
    "version": 3
   },
   "file_extension": ".py",
   "mimetype": "text/x-python",
   "name": "python",
   "nbconvert_exporter": "python",
   "pygments_lexer": "ipython3",
   "version": "3.12.4"
  }
 },
 "nbformat": 4,
 "nbformat_minor": 2
}
