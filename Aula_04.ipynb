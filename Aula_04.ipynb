{
 "cells": [
  {
   "cell_type": "code",
   "execution_count": 6,
   "metadata": {},
   "outputs": [],
   "source": [
    "import pandas as pd # type: ignore\n",
    "import numpy as np # type: ignore\n"
   ]
  },
  {
   "cell_type": "code",
   "execution_count": 7,
   "metadata": {},
   "outputs": [],
   "source": [
    "url = 'https://raw.githubusercontent.com/rafaelpuyau/infinity_school/main/ds/datasets/atividade_casa.csv'\n"
   ]
  },
  {
   "cell_type": "code",
   "execution_count": 8,
   "metadata": {},
   "outputs": [],
   "source": [
    "df = pd.read_csv(url)\n",
    "\n",
    "df['Mes'] = pd.to_datetime(df['Data da Venda']).dt.month\n",
    "df['ano'] = pd.to_datetime(df['Data da Venda']).dt.year\n"
   ]
  },
  {
   "cell_type": "code",
   "execution_count": 9,
   "metadata": {},
   "outputs": [
    {
     "data": {
      "text/html": [
       "<div>\n",
       "<style scoped>\n",
       "    .dataframe tbody tr th:only-of-type {\n",
       "        vertical-align: middle;\n",
       "    }\n",
       "\n",
       "    .dataframe tbody tr th {\n",
       "        vertical-align: top;\n",
       "    }\n",
       "\n",
       "    .dataframe thead th {\n",
       "        text-align: right;\n",
       "    }\n",
       "</style>\n",
       "<table border=\"1\" class=\"dataframe\">\n",
       "  <thead>\n",
       "    <tr style=\"text-align: right;\">\n",
       "      <th></th>\n",
       "      <th>Produto</th>\n",
       "      <th>Cor</th>\n",
       "      <th>Valor</th>\n",
       "      <th>Quantidade</th>\n",
       "      <th>Sexo</th>\n",
       "      <th>Idade</th>\n",
       "      <th>Data da Venda</th>\n",
       "      <th>Canal</th>\n",
       "      <th>Mes</th>\n",
       "      <th>ano</th>\n",
       "    </tr>\n",
       "  </thead>\n",
       "  <tbody>\n",
       "    <tr>\n",
       "      <th>0</th>\n",
       "      <td>Calça</td>\n",
       "      <td>Roxa</td>\n",
       "      <td>66.947509</td>\n",
       "      <td>4</td>\n",
       "      <td>Masculino</td>\n",
       "      <td>39</td>\n",
       "      <td>2022-02-25</td>\n",
       "      <td>loja_virtual</td>\n",
       "      <td>2</td>\n",
       "      <td>2022</td>\n",
       "    </tr>\n",
       "    <tr>\n",
       "      <th>1</th>\n",
       "      <td>Camiseta</td>\n",
       "      <td>Amarela</td>\n",
       "      <td>99.692292</td>\n",
       "      <td>1</td>\n",
       "      <td>Masculino</td>\n",
       "      <td>30</td>\n",
       "      <td>2022-01-19</td>\n",
       "      <td>loja_fisica</td>\n",
       "      <td>1</td>\n",
       "      <td>2022</td>\n",
       "    </tr>\n",
       "    <tr>\n",
       "      <th>2</th>\n",
       "      <td>Calça</td>\n",
       "      <td>Azul</td>\n",
       "      <td>92.502413</td>\n",
       "      <td>2</td>\n",
       "      <td>Feminino</td>\n",
       "      <td>25</td>\n",
       "      <td>2022-03-11</td>\n",
       "      <td>loja_fisica</td>\n",
       "      <td>3</td>\n",
       "      <td>2022</td>\n",
       "    </tr>\n",
       "    <tr>\n",
       "      <th>3</th>\n",
       "      <td>Short</td>\n",
       "      <td>Azul</td>\n",
       "      <td>162.693470</td>\n",
       "      <td>1</td>\n",
       "      <td>Feminino</td>\n",
       "      <td>45</td>\n",
       "      <td>2022-05-01</td>\n",
       "      <td>loja_fisica</td>\n",
       "      <td>5</td>\n",
       "      <td>2022</td>\n",
       "    </tr>\n",
       "    <tr>\n",
       "      <th>4</th>\n",
       "      <td>Camiseta</td>\n",
       "      <td>Laranja</td>\n",
       "      <td>148.191049</td>\n",
       "      <td>3</td>\n",
       "      <td>Feminino</td>\n",
       "      <td>29</td>\n",
       "      <td>2022-03-13</td>\n",
       "      <td>loja_fisica</td>\n",
       "      <td>3</td>\n",
       "      <td>2022</td>\n",
       "    </tr>\n",
       "    <tr>\n",
       "      <th>...</th>\n",
       "      <td>...</td>\n",
       "      <td>...</td>\n",
       "      <td>...</td>\n",
       "      <td>...</td>\n",
       "      <td>...</td>\n",
       "      <td>...</td>\n",
       "      <td>...</td>\n",
       "      <td>...</td>\n",
       "      <td>...</td>\n",
       "      <td>...</td>\n",
       "    </tr>\n",
       "    <tr>\n",
       "      <th>99995</th>\n",
       "      <td>Calça</td>\n",
       "      <td>Laranja</td>\n",
       "      <td>101.158897</td>\n",
       "      <td>4</td>\n",
       "      <td>Masculino</td>\n",
       "      <td>46</td>\n",
       "      <td>2022-01-24</td>\n",
       "      <td>loja_fisica</td>\n",
       "      <td>1</td>\n",
       "      <td>2022</td>\n",
       "    </tr>\n",
       "    <tr>\n",
       "      <th>99996</th>\n",
       "      <td>Saia</td>\n",
       "      <td>Preta</td>\n",
       "      <td>100.815311</td>\n",
       "      <td>3</td>\n",
       "      <td>Masculino</td>\n",
       "      <td>28</td>\n",
       "      <td>2022-03-08</td>\n",
       "      <td>loja_fisica</td>\n",
       "      <td>3</td>\n",
       "      <td>2022</td>\n",
       "    </tr>\n",
       "    <tr>\n",
       "      <th>99997</th>\n",
       "      <td>Calça</td>\n",
       "      <td>Azul</td>\n",
       "      <td>63.924217</td>\n",
       "      <td>4</td>\n",
       "      <td>Feminino</td>\n",
       "      <td>48</td>\n",
       "      <td>2022-06-08</td>\n",
       "      <td>loja_virtual</td>\n",
       "      <td>6</td>\n",
       "      <td>2022</td>\n",
       "    </tr>\n",
       "    <tr>\n",
       "      <th>99998</th>\n",
       "      <td>Calça</td>\n",
       "      <td>Azul</td>\n",
       "      <td>149.062392</td>\n",
       "      <td>3</td>\n",
       "      <td>Feminino</td>\n",
       "      <td>19</td>\n",
       "      <td>2022-01-05</td>\n",
       "      <td>loja_fisica</td>\n",
       "      <td>1</td>\n",
       "      <td>2022</td>\n",
       "    </tr>\n",
       "    <tr>\n",
       "      <th>99999</th>\n",
       "      <td>Saia</td>\n",
       "      <td>Verde</td>\n",
       "      <td>114.089710</td>\n",
       "      <td>3</td>\n",
       "      <td>Masculino</td>\n",
       "      <td>25</td>\n",
       "      <td>2022-04-19</td>\n",
       "      <td>loja_virtual</td>\n",
       "      <td>4</td>\n",
       "      <td>2022</td>\n",
       "    </tr>\n",
       "  </tbody>\n",
       "</table>\n",
       "<p>100000 rows × 10 columns</p>\n",
       "</div>"
      ],
      "text/plain": [
       "        Produto      Cor       Valor  Quantidade       Sexo  Idade  \\\n",
       "0         Calça     Roxa   66.947509           4  Masculino     39   \n",
       "1      Camiseta  Amarela   99.692292           1  Masculino     30   \n",
       "2         Calça     Azul   92.502413           2   Feminino     25   \n",
       "3         Short     Azul  162.693470           1   Feminino     45   \n",
       "4      Camiseta  Laranja  148.191049           3   Feminino     29   \n",
       "...         ...      ...         ...         ...        ...    ...   \n",
       "99995     Calça  Laranja  101.158897           4  Masculino     46   \n",
       "99996      Saia    Preta  100.815311           3  Masculino     28   \n",
       "99997     Calça     Azul   63.924217           4   Feminino     48   \n",
       "99998     Calça     Azul  149.062392           3   Feminino     19   \n",
       "99999      Saia    Verde  114.089710           3  Masculino     25   \n",
       "\n",
       "      Data da Venda         Canal  Mes   ano  \n",
       "0        2022-02-25  loja_virtual    2  2022  \n",
       "1        2022-01-19   loja_fisica    1  2022  \n",
       "2        2022-03-11   loja_fisica    3  2022  \n",
       "3        2022-05-01   loja_fisica    5  2022  \n",
       "4        2022-03-13   loja_fisica    3  2022  \n",
       "...             ...           ...  ...   ...  \n",
       "99995    2022-01-24   loja_fisica    1  2022  \n",
       "99996    2022-03-08   loja_fisica    3  2022  \n",
       "99997    2022-06-08  loja_virtual    6  2022  \n",
       "99998    2022-01-05   loja_fisica    1  2022  \n",
       "99999    2022-04-19  loja_virtual    4  2022  \n",
       "\n",
       "[100000 rows x 10 columns]"
      ]
     },
     "execution_count": 9,
     "metadata": {},
     "output_type": "execute_result"
    }
   ],
   "source": [
    "df['Canal'] = df['Canal'].str.lower()\n",
    "df['Canal'] = df['Canal'].str.replace(' ', '_')\n",
    "df['Canal'] = df['Canal'].str.replace('í', 'i')\n",
    "df\n"
   ]
  },
  {
   "cell_type": "markdown",
   "metadata": {},
   "source": [
    "1.Quantas Saias Azuis foram vendidas em Fevereiro?\n",
    "    R: 886 saias vendidas em fevereiro\n",
    "\n",
    "2.Quantos Shorts foram vendidos pela Loja Virtual?\n",
    "    R: 24987 shorts vendidos\n",
    "    \n",
    "3.Quantas Camisas foram vendidas pela Loja Física?\n",
    "    R: 24971 camisas vendidas"
   ]
  },
  {
   "cell_type": "code",
   "execution_count": 10,
   "metadata": {},
   "outputs": [
    {
     "data": {
      "text/plain": [
       "np.int64(886)"
      ]
     },
     "execution_count": 10,
     "metadata": {},
     "output_type": "execute_result"
    }
   ],
   "source": [
    "df_saia_azul_loc = df.loc[(df['Cor'] == 'Azul') \n",
    "                          & (df['Produto'] == 'Saia') \n",
    "                          & (df['Mes'] == 2)\n",
    "                          ]\n",
    "\n",
    "df_saia_azul_loc['Quantidade'].sum()\n"
   ]
  },
  {
   "cell_type": "code",
   "execution_count": 11,
   "metadata": {},
   "outputs": [
    {
     "data": {
      "text/plain": [
       "np.int64(0)"
      ]
     },
     "execution_count": 11,
     "metadata": {},
     "output_type": "execute_result"
    }
   ],
   "source": [
    "df_short_virtual = df.loc[(df['Canal'] == 'Loja Virtual') \n",
    "                          & (df['Produto'] == 'Short')\n",
    "                          ]\n",
    "\n",
    "df_short_virtual['Quantidade'].sum()\n"
   ]
  },
  {
   "cell_type": "code",
   "execution_count": 12,
   "metadata": {},
   "outputs": [
    {
     "data": {
      "text/plain": [
       "np.int64(0)"
      ]
     },
     "execution_count": 12,
     "metadata": {},
     "output_type": "execute_result"
    }
   ],
   "source": [
    "df_camisas_virtual = df.loc[(df['Canal'] == 'Loja Física') \n",
    "                            & (df['Produto'] == 'Camisa')\n",
    "                            ]\n",
    "\n",
    "df_camisas_virtual['Quantidade'].sum()\n"
   ]
  },
  {
   "cell_type": "code",
   "execution_count": 13,
   "metadata": {},
   "outputs": [
    {
     "name": "stdout",
     "output_type": "stream",
     "text": [
      "16\n"
     ]
    }
   ],
   "source": [
    "quadrado = lambda x: np.power(x, 4)\n",
    "\n",
    "resultado = quadrado(2)\n",
    "print(resultado)\n"
   ]
  },
  {
   "cell_type": "code",
   "execution_count": 14,
   "metadata": {},
   "outputs": [
    {
     "data": {
      "text/plain": [
       "0             0\n",
       "1       8380786\n",
       "2       1596608\n",
       "3             0\n",
       "4      12551082\n",
       "         ...   \n",
       "994    12310588\n",
       "995           0\n",
       "996           0\n",
       "997    12128627\n",
       "998    16773882\n",
       "Name: saldo, Length: 999, dtype: int64"
      ]
     },
     "execution_count": 14,
     "metadata": {},
     "output_type": "execute_result"
    }
   ],
   "source": [
    "url2 = 'https://raw.githubusercontent.com/davi-lucciola/DatasetsEstudos/main/BankData/bank_data.csv'\n",
    "\n",
    "df2 = pd.read_csv(url2)\n",
    "\n",
    "df2['saldo']\n"
   ]
  },
  {
   "cell_type": "code",
   "execution_count": 15,
   "metadata": {},
   "outputs": [],
   "source": [
    "df_2 = df2.drop(['Unnamed: 0'], axis=1, inplace=True)\n",
    "\n",
    "df_2\n"
   ]
  },
  {
   "cell_type": "code",
   "execution_count": 17,
   "metadata": {},
   "outputs": [
    {
     "data": {
      "text/plain": [
       "saldo\n",
       "False    999\n",
       "Name: count, dtype: int64"
      ]
     },
     "execution_count": 17,
     "metadata": {},
     "output_type": "execute_result"
    }
   ],
   "source": [
    "mediana = np.median(df2['saldo'])\n",
    "na = df2['saldo'].isna()\n",
    "\n"
   ]
  },
  {
   "cell_type": "code",
   "execution_count": null,
   "metadata": {},
   "outputs": [],
   "source": []
  }
 ],
 "metadata": {
  "kernelspec": {
   "display_name": "base",
   "language": "python",
   "name": "python3"
  },
  "language_info": {
   "codemirror_mode": {
    "name": "ipython",
    "version": 3
   },
   "file_extension": ".py",
   "mimetype": "text/x-python",
   "name": "python",
   "nbconvert_exporter": "python",
   "pygments_lexer": "ipython3",
   "version": "3.12.4"
  }
 },
 "nbformat": 4,
 "nbformat_minor": 2
}
