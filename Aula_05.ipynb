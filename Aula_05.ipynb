{
 "cells": [
  {
   "cell_type": "code",
   "execution_count": 1,
   "metadata": {},
   "outputs": [],
   "source": [
    "import pandas as pd\n",
    "import numpy as np\n"
   ]
  },
  {
   "cell_type": "markdown",
   "metadata": {},
   "source": [
    "Variancia é a distancia da nossa media \n",
    "\n",
    "quanto menor a a variancia mais proximo da media\n",
    "\n",
    "desvio padrão é a raiz quadrada da variancia\n",
    "\n"
   ]
  },
  {
   "cell_type": "code",
   "execution_count": 15,
   "metadata": {},
   "outputs": [
    {
     "name": "stdout",
     "output_type": "stream",
     "text": [
      "Pontos    16.8\n",
      "dtype: float64\n"
     ]
    }
   ],
   "source": [
    "data = {'Pontos': [12, 18, 15, 22, 17]}\n",
    "df = pd.DataFrame(data)\n",
    "\n",
    "df.head()\n",
    "\n",
    "media = df.mean()\n",
    "\n",
    "print(media)\n",
    "\n",
    "# media de pontos é 16,8\n"
   ]
  },
  {
   "cell_type": "code",
   "execution_count": 13,
   "metadata": {},
   "outputs": [
    {
     "name": "stdout",
     "output_type": "stream",
     "text": [
      "Preco    110.0\n",
      "dtype: float64\n"
     ]
    }
   ],
   "source": [
    "data2 = {'Preco': [120, 85, 90, 150, 130, 80, 200, 75, 60, 140, 110, 95, 100, 160, 180]}\n",
    "df2 = pd.DataFrame(data2)\n",
    "\n",
    "df.head()\n",
    "\n",
    "mediana = df2.median()\n",
    "\n",
    "print(mediana)\n",
    "\n",
    "#mediana de preço é 110\n"
   ]
  },
  {
   "cell_type": "code",
   "execution_count": 14,
   "metadata": {},
   "outputs": [
    {
     "name": "stdout",
     "output_type": "stream",
     "text": [
      "Tempo de resposta    2.5\n",
      "dtype: float64\n"
     ]
    }
   ],
   "source": [
    "data3 = {'Tempo de resposta': [2, 1.5, 3, 4.5, 3.5, 2.5, 1, 3, 2, 2.5, 1.5, 4, 3, 1, 2, 3.5, 2.5, 4, 1.5, 3]}\n",
    "df3 = pd.DataFrame(data3)\n",
    "\n",
    "df3.head()\n",
    "\n",
    "mediana2 = df3.median()\n",
    "\n",
    "print(mediana2)\n",
    "\n",
    "# mediana do tempo de resposta é 2.5hrs(02:30)\n"
   ]
  },
  {
   "cell_type": "code",
   "execution_count": 20,
   "metadata": {},
   "outputs": [
    {
     "name": "stdout",
     "output_type": "stream",
     "text": [
      "   passageiros por hora\n",
      "0                    60\n"
     ]
    }
   ],
   "source": [
    "data4 = {'passageiros por hora': [30, 10, 5, 7, 15, 20, 25,\n",
    "60, 55, 50, 45, 60, 65, 70, 60, 55, 50, 60, 65, 70, 75, 80, 40, 20]}\n",
    "df4 = pd.DataFrame(data4)\n",
    "\n",
    "df4.head()\n",
    "\n",
    "moda = df4.mode()\n",
    "\n",
    "print(moda)\n",
    "\n",
    "# moda é 60\n"
   ]
  },
  {
   "cell_type": "code",
   "execution_count": 27,
   "metadata": {},
   "outputs": [
    {
     "name": "stdout",
     "output_type": "stream",
     "text": [
      "   Classificações\n",
      "0               4\n"
     ]
    }
   ],
   "source": [
    "data5 = {'Classificações': [4, 5, 3, 4, 4, 5, 3, 3, 4, 2, 4, 5, 3, 3, 4]}\n",
    "df5 = pd.DataFrame(data5)\n",
    "\n",
    "df5.head()\n",
    "\n",
    "moda2 = df5.mode()\n",
    "\n",
    "print(moda2)\n",
    "\n",
    "# moda é 4\n"
   ]
  },
  {
   "cell_type": "code",
   "execution_count": 26,
   "metadata": {},
   "outputs": [
    {
     "name": "stdout",
     "output_type": "stream",
     "text": [
      "Vendas    4.534483\n",
      "dtype: float64\n"
     ]
    }
   ],
   "source": [
    "data6 = {'Vendas': [12, 15,\n",
    "14, 17, 13, 16, 15, 14, 18, 19, 15, 14, 17, 13, 12, 18, 20, 16, 14, 15, 17, 13, 18, 15,\n",
    "14, 16, 17, 19, 15, 14]}\n",
    "df6 = pd.DataFrame(data6)\n",
    "\n",
    "df6.head()\n",
    "\n",
    "variancia = df6.var()\n",
    "\n",
    "print(variancia)\n",
    "\n",
    "# variancia de 4,53\n"
   ]
  },
  {
   "cell_type": "code",
   "execution_count": 28,
   "metadata": {},
   "outputs": [
    {
     "name": "stdout",
     "output_type": "stream",
     "text": [
      "Temperatura    5.840909\n",
      "dtype: float64\n"
     ]
    }
   ],
   "source": [
    "data7 = {'Temperatura': [22, 24, 23, 19,\n",
    "18, 21, 25, 26, 24, 20, 22, 23]}\n",
    "df7 = pd.DataFrame(data7)\n",
    "\n",
    "df7.head()\n",
    "\n",
    "variancia2 = df7.var()\n",
    "\n",
    "print(variancia2)\n",
    "\n",
    "# variancia é 5,84\n"
   ]
  },
  {
   "cell_type": "code",
   "execution_count": 29,
   "metadata": {},
   "outputs": [
    {
     "name": "stdout",
     "output_type": "stream",
     "text": [
      "Velocidades    8.803408\n",
      "dtype: float64\n"
     ]
    }
   ],
   "source": [
    "data8 = {'Velocidades': [100, 102,\n",
    "98, 97, 103, 101, 99, 104, 96, 105, 95, 106, 94, 107, 93, 108, 92, 109, 91,\n",
    "110, 90, 111, 89, 112, 88, 113, 87, 114, 86, 115]}\n",
    "df8 = pd.DataFrame(data8)\n",
    "\n",
    "df8.head()\n",
    "\n",
    "desviopd = df8.std()\n",
    "\n",
    "print(desviopd)\n",
    "\n",
    "# desvio padrão de 8,80\n"
   ]
  },
  {
   "cell_type": "code",
   "execution_count": 30,
   "metadata": {},
   "outputs": [
    {
     "name": "stdout",
     "output_type": "stream",
     "text": [
      "Temperatura    2.416797\n",
      "dtype: float64\n"
     ]
    }
   ],
   "source": [
    "data9 = {'Notas': [78, 85, 73, 90, 92, 75, 70, 88, 80, 84, 69, 72,\n",
    "76, 94, 71, 83, 79, 77, 82, 89]}\n",
    "df9 = pd.DataFrame(data9)\n",
    "\n",
    "df9.head()\n",
    "\n",
    "desviopd2 = df9.std()\n",
    "\n",
    "print(desviopd2)\n",
    "\n",
    "# desvio padrão de 2,41\n"
   ]
  }
 ],
 "metadata": {
  "kernelspec": {
   "display_name": "Python 3",
   "language": "python",
   "name": "python3"
  },
  "language_info": {
   "codemirror_mode": {
    "name": "ipython",
    "version": 3
   },
   "file_extension": ".py",
   "mimetype": "text/x-python",
   "name": "python",
   "nbconvert_exporter": "python",
   "pygments_lexer": "ipython3",
   "version": "3.12.4"
  }
 },
 "nbformat": 4,
 "nbformat_minor": 2
}
