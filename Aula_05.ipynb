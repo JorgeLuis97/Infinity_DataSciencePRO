{
 "cells": [
  {
   "cell_type": "code",
   "execution_count": 6,
   "metadata": {},
   "outputs": [],
   "source": [
    "import pandas as pd\n",
    "import numpy as np"
   ]
  },
  {
   "cell_type": "markdown",
   "metadata": {},
   "source": [
    "Variancia é a distancia da nossa media \n",
    "\n",
    "quanto menor a a variancia mais proximo da media\n",
    "\n",
    "desvio padrão é a raiz quadrada da variancia\n",
    "\n"
   ]
  },
  {
   "cell_type": "code",
   "execution_count": 15,
   "metadata": {},
   "outputs": [
    {
     "name": "stdout",
     "output_type": "stream",
     "text": [
      "Pontos    16.8\n",
      "dtype: float64\n"
     ]
    }
   ],
   "source": [
    "data = {'Pontos': [12, 18, 15, 22, 17]}\n",
    "df = pd.DataFrame(data)\n",
    "\n",
    "df.head()\n",
    "\n",
    "media = df.mean()\n",
    "\n",
    "print(media)\n",
    "\n",
    "# media de pontos é 16,8"
   ]
  },
  {
   "cell_type": "code",
   "execution_count": 13,
   "metadata": {},
   "outputs": [
    {
     "name": "stdout",
     "output_type": "stream",
     "text": [
      "Preco    110.0\n",
      "dtype: float64\n"
     ]
    }
   ],
   "source": [
    "data2 = {'Preco': [120, 85, 90, 150, 130, 80, 200, 75, 60, 140, 110, 95, 100, 160, 180]}\n",
    "df2 = pd.DataFrame(data2)\n",
    "\n",
    "df.head()\n",
    "\n",
    "mediana = df2.median()\n",
    "\n",
    "print(mediana)\n",
    "\n",
    "#mediana de preço é 110"
   ]
  },
  {
   "cell_type": "code",
   "execution_count": 14,
   "metadata": {},
   "outputs": [
    {
     "name": "stdout",
     "output_type": "stream",
     "text": [
      "Tempo de resposta    2.5\n",
      "dtype: float64\n"
     ]
    }
   ],
   "source": [
    "data3 = {'Tempo de resposta': [2, 1.5, 3, 4.5, 3.5, 2.5, 1, 3, 2, 2.5, 1.5, 4, 3, 1, 2, 3.5, 2.5, 4, 1.5, 3]}\n",
    "df3 = pd.DataFrame(data3)\n",
    "\n",
    "df3.head()\n",
    "\n",
    "mediana2 = df3.median()\n",
    "\n",
    "print(mediana2)\n",
    "\n",
    "# mediana do tempo de resposta é 2.5hrs(02:30)"
   ]
  },
  {
   "cell_type": "code",
   "execution_count": 20,
   "metadata": {},
   "outputs": [
    {
     "name": "stdout",
     "output_type": "stream",
     "text": [
      "   passageiros por hora\n",
      "0                    60\n"
     ]
    }
   ],
   "source": [
    "data4 = {'passageiros por hora': [30, 10, 5, 7, 15, 20, 25,\n",
    "60, 55, 50, 45, 60, 65, 70, 60, 55, 50, 60, 65, 70, 75, 80, 40, 20]}\n",
    "df4 = pd.DataFrame(data4)\n",
    "\n",
    "df4.head()\n",
    "\n",
    "moda = df4.mode()\n",
    "\n",
    "print(moda)\n",
    "\n",
    "# moda é 60"
   ]
  },
  {
   "cell_type": "code",
   "execution_count": 23,
   "metadata": {},
   "outputs": [
    {
     "name": "stdout",
     "output_type": "stream",
     "text": [
      "   Classificações\n",
      "0               4\n"
     ]
    }
   ],
   "source": [
    "data5 = {'Classificações': [4, 5, 3, 4, 4, 5, 3, 3, 4, 2, 4, 5, 3, 3, 4]}\n",
    "df5 = pd.DataFrame(data5)\n",
    "\n",
    "df5.head()\n",
    "\n",
    "moda = df5.mode()\n",
    "\n",
    "print(moda)\n",
    "\n",
    "# moda é 4"
   ]
  }
 ],
 "metadata": {
  "kernelspec": {
   "display_name": "Python 3",
   "language": "python",
   "name": "python3"
  },
  "language_info": {
   "codemirror_mode": {
    "name": "ipython",
    "version": 3
   },
   "file_extension": ".py",
   "mimetype": "text/x-python",
   "name": "python",
   "nbconvert_exporter": "python",
   "pygments_lexer": "ipython3",
   "version": "3.9.13"
  }
 },
 "nbformat": 4,
 "nbformat_minor": 2
}
